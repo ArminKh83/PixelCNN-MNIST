{
  "nbformat": 4,
  "nbformat_minor": 0,
  "metadata": {
    "colab": {
      "provenance": [],
      "gpuType": "V28"
    },
    "kernelspec": {
      "name": "python3",
      "display_name": "Python 3"
    },
    "language_info": {
      "name": "python"
    },
    "accelerator": "TPU"
  },
  "cells": [
    {
      "cell_type": "markdown",
      "source": [
        "# PixelCNN: A Generative Model\n",
        "PixelCNN is a type of autoregressive generative model developed for modeling images. It captures the dependencies between pixels, allowing it to generate new images pixel by pixel. Unlike traditional generative models, PixelCNN models the conditional distribution of each pixel given the previous ones.\n"
      ],
      "metadata": {
        "id": "l46tGNiNsE64"
      }
    },
    {
      "cell_type": "markdown",
      "source": [
        "## Autoregressive Models\n",
        "Autoregressive models aim to predict the next element in a sequence based on prior elements. In the context of images, PixelCNN models the probability distribution of each pixel given all previous pixels in raster order (top to bottom, left to right). This enables generating images from scratch.\n",
        "\n",
        "The key idea of PixelCNN is to factor the image's joint distribution into a product of conditional distributions:\n",
        "$$ P(x) = \\prod_i P(x_i | x_{1:i-1}) $$\n",
        "\n",
        "Where each pixel is conditioned on the previous pixels.\n"
      ],
      "metadata": {
        "id": "JliDpWcstYsf"
      }
    },
    {
      "cell_type": "markdown",
      "source": [
        "## PixelCNN Architecture\n",
        "PixelCNN uses a stack of convolutional layers where each layer is masked to ensure that the pixel at position (i, j) only depends on previous pixels. The network models the conditional probability of a pixel given its neighbors.\n",
        "\n",
        "The structure can be visualized as:\n",
        "\n",
        "![PixelCNN Architecture](https://camo.githubusercontent.com/2f581257c289298057989d11aa1ad507c2af397b2471c592f7b17a5dbecd731e/687474703a2f2f736572676569747572756b696e2e636f6d2f6173736574732f323031372d30322d32322d3138333031305f343739783439345f7363726f742e706e67)  <!-- Add actual image reference here -->\n"
      ],
      "metadata": {
        "id": "V1Bbg2SdtY0n"
      }
    },
    {
      "cell_type": "markdown",
      "source": [
        "## PixelCNN Architecture\n",
        "PixelCNN uses a stack of convolutional layers where each layer is masked to ensure that the pixel at position (i, j) only depends on previous pixels. The network models the conditional probability of a pixel given its neighbors.\n",
        "\n",
        "The structure can be visualized as:\n",
        "\n",
        "![PixelCNN Architecture](https://camo.githubusercontent.com/2b432c6d87633c75685c3703167c0a6b5a6d6592a7ca95540bf02f6de890052c/68747470733a2f2f6c696c69616e77656e672e6769746875622e696f2f6c696c2d6c6f672f6173736574732f696d616765732f706978656c2d636e6e2e706e67)  <!-- Add actual image reference here -->\n"
      ],
      "metadata": {
        "id": "aX_0cc4otY4_"
      }
    },
    {
      "cell_type": "markdown",
      "source": [
        "## Masked Convolutions\n",
        "PixelCNN employs masked convolutions to ensure that future pixels are not used in the computation of the current pixel's distribution. There are two types of masks:\n",
        "\n",
        "- **Mask A**\n",
        "- **Mask B**\n",
        "\n",
        "This technique helps preserve the autoregressive nature of the model.\n"
      ],
      "metadata": {
        "id": "SCWxdgV2t7B2"
      }
    },
    {
      "cell_type": "markdown",
      "source": [
        "## Implementation\n",
        "\n",
        "PyTorch buffers are tensor attributes associated with a PyTorch module or model similar to parameters, but unlike parameters, buffers are not updated during training.\n",
        "\n"
      ],
      "metadata": {
        "id": "b3MQjkbQwqp7"
      }
    },
    {
      "cell_type": "code",
      "source": [
        "import torch\n",
        "import torch.nn as nn\n",
        "from torchvision import datasets, transforms\n",
        "from torch.utils.data import DataLoader\n",
        "import matplotlib.pyplot as plt\n",
        "import torch.optim as optim\n",
        "from tqdm import tqdm\n",
        "\n"
      ],
      "metadata": {
        "id": "7oWdFz1Utt0h"
      },
      "execution_count": 21,
      "outputs": []
    },
    {
      "cell_type": "code",
      "source": [
        "# Define the transform to convert PIL images to tensors\n",
        "# Define the transform to binarize the data\n",
        "threshold = 0.5  # Binarization threshold\n",
        "\n",
        "transform = transforms.Compose([\n",
        "    transforms.ToTensor(),\n",
        "    # transforms.Lambda(lambda x: (x > threshold).float())  # Binarize the data\n",
        "])\n",
        "\n",
        "# Download and load training and test datasets\n",
        "train_dataset = datasets.MNIST(root='./data', train=True, transform=transform, download=True)\n",
        "test_dataset = datasets.MNIST(root='./data', train=False, transform=transform, download=True)\n",
        "\n"
      ],
      "metadata": {
        "colab": {
          "base_uri": "https://localhost:8080/"
        },
        "id": "cXMvQATaunU0",
        "outputId": "c8db6f8c-c778-4f51-faf6-ac113c68d787"
      },
      "execution_count": 2,
      "outputs": [
        {
          "output_type": "stream",
          "name": "stdout",
          "text": [
            "Downloading http://yann.lecun.com/exdb/mnist/train-images-idx3-ubyte.gz\n",
            "Failed to download (trying next):\n",
            "HTTP Error 403: Forbidden\n",
            "\n",
            "Downloading https://ossci-datasets.s3.amazonaws.com/mnist/train-images-idx3-ubyte.gz\n",
            "Downloading https://ossci-datasets.s3.amazonaws.com/mnist/train-images-idx3-ubyte.gz to ./data/MNIST/raw/train-images-idx3-ubyte.gz\n"
          ]
        },
        {
          "output_type": "stream",
          "name": "stderr",
          "text": [
            "100%|██████████| 9.91M/9.91M [00:00<00:00, 38.8MB/s]\n"
          ]
        },
        {
          "output_type": "stream",
          "name": "stdout",
          "text": [
            "Extracting ./data/MNIST/raw/train-images-idx3-ubyte.gz to ./data/MNIST/raw\n",
            "\n",
            "Downloading http://yann.lecun.com/exdb/mnist/train-labels-idx1-ubyte.gz\n",
            "Failed to download (trying next):\n",
            "HTTP Error 403: Forbidden\n",
            "\n",
            "Downloading https://ossci-datasets.s3.amazonaws.com/mnist/train-labels-idx1-ubyte.gz\n",
            "Downloading https://ossci-datasets.s3.amazonaws.com/mnist/train-labels-idx1-ubyte.gz to ./data/MNIST/raw/train-labels-idx1-ubyte.gz\n"
          ]
        },
        {
          "output_type": "stream",
          "name": "stderr",
          "text": [
            "100%|██████████| 28.9k/28.9k [00:00<00:00, 1.26MB/s]\n"
          ]
        },
        {
          "output_type": "stream",
          "name": "stdout",
          "text": [
            "Extracting ./data/MNIST/raw/train-labels-idx1-ubyte.gz to ./data/MNIST/raw\n",
            "\n",
            "Downloading http://yann.lecun.com/exdb/mnist/t10k-images-idx3-ubyte.gz\n",
            "Failed to download (trying next):\n",
            "HTTP Error 403: Forbidden\n",
            "\n",
            "Downloading https://ossci-datasets.s3.amazonaws.com/mnist/t10k-images-idx3-ubyte.gz\n",
            "Downloading https://ossci-datasets.s3.amazonaws.com/mnist/t10k-images-idx3-ubyte.gz to ./data/MNIST/raw/t10k-images-idx3-ubyte.gz\n"
          ]
        },
        {
          "output_type": "stream",
          "name": "stderr",
          "text": [
            "100%|██████████| 1.65M/1.65M [00:00<00:00, 10.7MB/s]\n"
          ]
        },
        {
          "output_type": "stream",
          "name": "stdout",
          "text": [
            "Extracting ./data/MNIST/raw/t10k-images-idx3-ubyte.gz to ./data/MNIST/raw\n",
            "\n",
            "Downloading http://yann.lecun.com/exdb/mnist/t10k-labels-idx1-ubyte.gz\n",
            "Failed to download (trying next):\n",
            "HTTP Error 403: Forbidden\n",
            "\n",
            "Downloading https://ossci-datasets.s3.amazonaws.com/mnist/t10k-labels-idx1-ubyte.gz\n",
            "Downloading https://ossci-datasets.s3.amazonaws.com/mnist/t10k-labels-idx1-ubyte.gz to ./data/MNIST/raw/t10k-labels-idx1-ubyte.gz\n"
          ]
        },
        {
          "output_type": "stream",
          "name": "stderr",
          "text": [
            "100%|██████████| 4.54k/4.54k [00:00<00:00, 3.29MB/s]\n"
          ]
        },
        {
          "output_type": "stream",
          "name": "stdout",
          "text": [
            "Extracting ./data/MNIST/raw/t10k-labels-idx1-ubyte.gz to ./data/MNIST/raw\n",
            "\n"
          ]
        }
      ]
    },
    {
      "cell_type": "code",
      "source": [
        "# Wrap datasets in DataLoaders\n",
        "\n",
        "batch_size = 64\n",
        "\n",
        "train_loader = DataLoader(train_dataset, batch_size=batch_size, shuffle=True)\n",
        "test_loader = DataLoader(test_dataset, batch_size=batch_size, shuffle=False)"
      ],
      "metadata": {
        "id": "XB-MMNukunXa"
      },
      "execution_count": 3,
      "outputs": []
    },
    {
      "cell_type": "code",
      "source": [
        "# Example: Iterate through the train_loader\n",
        "\n",
        "for images, labels in train_loader:\n",
        "    print(\"Batch of images shape:\", images.shape)  # [32, 1, 28, 28]\n",
        "    print(images[0])\n",
        "    print(\"Batch of labels:\", labels)  # [32]\n",
        "    break  # Exit after the first batch"
      ],
      "metadata": {
        "colab": {
          "base_uri": "https://localhost:8080/"
        },
        "id": "rk5Ks6v1unac",
        "outputId": "47b175b4-9604-46ea-e5bd-4836fd33f078"
      },
      "execution_count": 4,
      "outputs": [
        {
          "output_type": "stream",
          "name": "stdout",
          "text": [
            "Batch of images shape: torch.Size([64, 1, 28, 28])\n",
            "tensor([[[0.0000, 0.0000, 0.0000, 0.0000, 0.0000, 0.0000, 0.0000, 0.0000,\n",
            "          0.0000, 0.0000, 0.0000, 0.0000, 0.0000, 0.0000, 0.0000, 0.0000,\n",
            "          0.0000, 0.0000, 0.0000, 0.0000, 0.0000, 0.0000, 0.0000, 0.0000,\n",
            "          0.0000, 0.0000, 0.0000, 0.0000],\n",
            "         [0.0000, 0.0000, 0.0000, 0.0000, 0.0000, 0.0000, 0.0000, 0.0000,\n",
            "          0.0000, 0.0000, 0.0000, 0.0000, 0.0000, 0.0000, 0.0000, 0.0000,\n",
            "          0.0000, 0.0000, 0.0000, 0.0000, 0.0000, 0.0000, 0.0000, 0.0000,\n",
            "          0.0000, 0.0000, 0.0000, 0.0000],\n",
            "         [0.0000, 0.0000, 0.0000, 0.0000, 0.0000, 0.0000, 0.0000, 0.0000,\n",
            "          0.0000, 0.0000, 0.0000, 0.0000, 0.0000, 0.0000, 0.0000, 0.0000,\n",
            "          0.0000, 0.0000, 0.0000, 0.0000, 0.0000, 0.0000, 0.0000, 0.0000,\n",
            "          0.0000, 0.0000, 0.0000, 0.0000],\n",
            "         [0.0000, 0.0000, 0.0000, 0.0000, 0.0000, 0.0000, 0.0000, 0.0000,\n",
            "          0.0000, 0.0000, 0.0000, 0.0000, 0.0000, 0.0000, 0.0000, 0.0000,\n",
            "          0.0000, 0.0000, 0.0000, 0.0000, 0.0000, 0.0000, 0.0000, 0.0000,\n",
            "          0.0000, 0.0000, 0.0000, 0.0000],\n",
            "         [0.0000, 0.0000, 0.0000, 0.0000, 0.0000, 0.0000, 0.0000, 0.0000,\n",
            "          0.0000, 0.0000, 0.0000, 0.0000, 0.0000, 0.0000, 0.0000, 0.0000,\n",
            "          0.0000, 0.0000, 0.0000, 0.0000, 0.0000, 0.0000, 0.0000, 0.0000,\n",
            "          0.0000, 0.0000, 0.0000, 0.0000],\n",
            "         [0.0000, 0.0000, 0.0000, 0.0000, 0.0000, 0.0000, 0.0000, 0.0000,\n",
            "          0.0000, 0.0000, 0.0000, 0.0000, 0.0000, 0.0000, 0.0000, 0.0000,\n",
            "          0.0000, 0.0000, 0.0000, 0.0000, 0.0000, 0.0000, 0.0000, 0.0000,\n",
            "          0.0000, 0.0000, 0.0000, 0.0000],\n",
            "         [0.0000, 0.0000, 0.0000, 0.0000, 0.0000, 0.0000, 0.0000, 0.0000,\n",
            "          0.2235, 0.2235, 0.5647, 0.6627, 0.6667, 0.6627, 0.6627, 0.2706,\n",
            "          0.2235, 0.2235, 0.0510, 0.0000, 0.0000, 0.0000, 0.0000, 0.0000,\n",
            "          0.0000, 0.0000, 0.0000, 0.0000],\n",
            "         [0.0000, 0.0000, 0.0000, 0.0000, 0.0000, 0.0000, 0.4078, 0.7725,\n",
            "          0.9922, 0.9882, 0.9882, 0.9882, 0.9922, 0.9882, 0.9882, 0.9882,\n",
            "          0.9922, 0.9882, 0.6706, 0.0392, 0.0000, 0.0000, 0.0000, 0.0000,\n",
            "          0.0000, 0.0000, 0.0000, 0.0000],\n",
            "         [0.0000, 0.0000, 0.0000, 0.0000, 0.0000, 0.5922, 0.9647, 0.9882,\n",
            "          0.5490, 0.5451, 0.4039, 0.1098, 0.1098, 0.1098, 0.1098, 0.3059,\n",
            "          0.3569, 0.5451, 0.8941, 0.3059, 0.0000, 0.0000, 0.0000, 0.0000,\n",
            "          0.0000, 0.0000, 0.0000, 0.0000],\n",
            "         [0.0000, 0.0000, 0.0000, 0.0000, 0.4078, 0.9922, 0.9569, 0.2941,\n",
            "          0.0000, 0.0000, 0.0000, 0.0000, 0.0000, 0.0000, 0.0000, 0.0000,\n",
            "          0.0000, 0.0000, 0.0902, 0.0627, 0.0000, 0.0000, 0.0000, 0.0000,\n",
            "          0.0000, 0.0000, 0.0000, 0.0000],\n",
            "         [0.0000, 0.0000, 0.0000, 0.0000, 0.8941, 0.9882, 0.6588, 0.0000,\n",
            "          0.0000, 0.0000, 0.0000, 0.0000, 0.0000, 0.0000, 0.0000, 0.2000,\n",
            "          0.6667, 0.6627, 0.9176, 0.8431, 0.1020, 0.0000, 0.0000, 0.0000,\n",
            "          0.0000, 0.0000, 0.0000, 0.0000],\n",
            "         [0.0000, 0.0000, 0.0000, 0.0000, 0.2078, 0.9882, 0.9176, 0.3804,\n",
            "          0.0000, 0.0000, 0.0000, 0.0000, 0.0000, 0.0745, 0.4824, 0.9647,\n",
            "          0.9922, 0.9882, 0.8784, 0.6588, 0.2980, 0.0000, 0.0000, 0.0000,\n",
            "          0.0000, 0.0000, 0.0000, 0.0000],\n",
            "         [0.0000, 0.0000, 0.0000, 0.0000, 0.0157, 0.4039, 0.8941, 0.9882,\n",
            "          0.8392, 0.3451, 0.0000, 0.2000, 0.8863, 0.9059, 0.9882, 0.7922,\n",
            "          0.5020, 0.1098, 0.0745, 0.0000, 0.0000, 0.0000, 0.0000, 0.0000,\n",
            "          0.0000, 0.0000, 0.0000, 0.0000],\n",
            "         [0.0000, 0.0000, 0.0000, 0.0000, 0.0000, 0.0000, 0.1490, 0.8353,\n",
            "          1.0000, 0.9922, 0.9922, 0.9922, 0.9961, 0.9922, 0.8471, 0.1098,\n",
            "          0.0000, 0.0000, 0.0000, 0.0000, 0.0000, 0.0000, 0.0000, 0.0000,\n",
            "          0.0000, 0.0000, 0.0000, 0.0000],\n",
            "         [0.0000, 0.0000, 0.0000, 0.0000, 0.0000, 0.0000, 0.0000, 0.0000,\n",
            "          0.4039, 0.9882, 0.9882, 0.9882, 0.9922, 0.9882, 0.9882, 0.8431,\n",
            "          0.6157, 0.2235, 0.1490, 0.0000, 0.0000, 0.0000, 0.0000, 0.0000,\n",
            "          0.0000, 0.0000, 0.0000, 0.0000],\n",
            "         [0.0000, 0.0000, 0.0000, 0.0000, 0.0000, 0.0000, 0.0000, 0.0000,\n",
            "          0.6039, 0.9882, 0.8784, 0.2667, 0.2196, 0.5098, 0.7686, 0.9882,\n",
            "          0.9922, 0.9882, 0.9176, 0.7725, 0.2980, 0.0000, 0.0000, 0.0000,\n",
            "          0.0000, 0.0000, 0.0000, 0.0000],\n",
            "         [0.0000, 0.0000, 0.0000, 0.0000, 0.0000, 0.0000, 0.0000, 0.0000,\n",
            "          0.9922, 0.8902, 0.1686, 0.0000, 0.0000, 0.0000, 0.0392, 0.1098,\n",
            "          0.3569, 0.6471, 0.9882, 0.9882, 0.9333, 0.3451, 0.0000, 0.0000,\n",
            "          0.0000, 0.0000, 0.0000, 0.0000],\n",
            "         [0.0000, 0.0000, 0.0000, 0.0000, 0.0000, 0.0000, 0.0000, 0.0000,\n",
            "          1.0000, 0.3294, 0.0000, 0.0000, 0.0000, 0.0000, 0.0000, 0.0000,\n",
            "          0.0000, 0.0000, 0.1490, 0.4431, 0.8980, 0.9922, 0.5020, 0.0157,\n",
            "          0.0000, 0.0000, 0.0000, 0.0000],\n",
            "         [0.0000, 0.0000, 0.0000, 0.0000, 0.0000, 0.0000, 0.0000, 0.0000,\n",
            "          0.9922, 0.7686, 0.2471, 0.0000, 0.0000, 0.0000, 0.0000, 0.0000,\n",
            "          0.0000, 0.0000, 0.0000, 0.0000, 0.0863, 0.9176, 0.9882, 0.4039,\n",
            "          0.0000, 0.0000, 0.0000, 0.0000],\n",
            "         [0.0000, 0.0000, 0.0000, 0.0000, 0.0000, 0.0000, 0.0000, 0.0000,\n",
            "          0.5020, 0.9882, 0.9176, 0.5765, 0.1490, 0.0000, 0.0000, 0.0000,\n",
            "          0.0000, 0.0000, 0.0000, 0.0000, 0.0000, 0.3216, 0.9882, 0.8941,\n",
            "          0.0000, 0.0000, 0.0000, 0.0000],\n",
            "         [0.0000, 0.0000, 0.0000, 0.0000, 0.0000, 0.0000, 0.0000, 0.0000,\n",
            "          0.0157, 0.6980, 0.9882, 0.9882, 0.9333, 0.5882, 0.2980, 0.0000,\n",
            "          0.0000, 0.0000, 0.0000, 0.0000, 0.0000, 0.4196, 0.9882, 0.9882,\n",
            "          0.0000, 0.0000, 0.0000, 0.0000],\n",
            "         [0.0000, 0.0000, 0.0000, 0.0000, 0.0000, 0.0000, 0.0000, 0.0000,\n",
            "          0.0000, 0.0000, 0.1490, 0.6392, 0.8980, 0.9922, 0.9922, 0.9922,\n",
            "          0.5529, 0.5529, 0.5529, 0.5529, 0.7529, 0.8471, 0.9569, 0.4902,\n",
            "          0.0000, 0.0000, 0.0000, 0.0000],\n",
            "         [0.0000, 0.0000, 0.0000, 0.0000, 0.0000, 0.0000, 0.0000, 0.0000,\n",
            "          0.0000, 0.0000, 0.0000, 0.0000, 0.0392, 0.6235, 0.7686, 0.9647,\n",
            "          0.9922, 0.9882, 0.9882, 0.9882, 0.9922, 0.9882, 0.5569, 0.0000,\n",
            "          0.0000, 0.0000, 0.0000, 0.0000],\n",
            "         [0.0000, 0.0000, 0.0000, 0.0000, 0.0000, 0.0000, 0.0000, 0.0000,\n",
            "          0.0000, 0.0000, 0.0000, 0.0000, 0.0000, 0.0000, 0.0000, 0.1961,\n",
            "          0.2196, 0.5098, 0.5098, 0.2196, 0.2706, 0.3647, 0.0510, 0.0000,\n",
            "          0.0000, 0.0000, 0.0000, 0.0000],\n",
            "         [0.0000, 0.0000, 0.0000, 0.0000, 0.0000, 0.0000, 0.0000, 0.0000,\n",
            "          0.0000, 0.0000, 0.0000, 0.0000, 0.0000, 0.0000, 0.0000, 0.0000,\n",
            "          0.0000, 0.0000, 0.0000, 0.0000, 0.0000, 0.0000, 0.0000, 0.0000,\n",
            "          0.0000, 0.0000, 0.0000, 0.0000],\n",
            "         [0.0000, 0.0000, 0.0000, 0.0000, 0.0000, 0.0000, 0.0000, 0.0000,\n",
            "          0.0000, 0.0000, 0.0000, 0.0000, 0.0000, 0.0000, 0.0000, 0.0000,\n",
            "          0.0000, 0.0000, 0.0000, 0.0000, 0.0000, 0.0000, 0.0000, 0.0000,\n",
            "          0.0000, 0.0000, 0.0000, 0.0000],\n",
            "         [0.0000, 0.0000, 0.0000, 0.0000, 0.0000, 0.0000, 0.0000, 0.0000,\n",
            "          0.0000, 0.0000, 0.0000, 0.0000, 0.0000, 0.0000, 0.0000, 0.0000,\n",
            "          0.0000, 0.0000, 0.0000, 0.0000, 0.0000, 0.0000, 0.0000, 0.0000,\n",
            "          0.0000, 0.0000, 0.0000, 0.0000],\n",
            "         [0.0000, 0.0000, 0.0000, 0.0000, 0.0000, 0.0000, 0.0000, 0.0000,\n",
            "          0.0000, 0.0000, 0.0000, 0.0000, 0.0000, 0.0000, 0.0000, 0.0000,\n",
            "          0.0000, 0.0000, 0.0000, 0.0000, 0.0000, 0.0000, 0.0000, 0.0000,\n",
            "          0.0000, 0.0000, 0.0000, 0.0000]]])\n",
            "Batch of labels: tensor([8, 5, 4, 8, 1, 2, 9, 4, 6, 7, 2, 1, 4, 9, 5, 6, 0, 5, 5, 9, 1, 9, 2, 1,\n",
            "        4, 2, 1, 0, 7, 8, 8, 1, 0, 4, 5, 6, 3, 4, 0, 1, 7, 4, 0, 2, 2, 1, 4, 4,\n",
            "        1, 6, 1, 7, 3, 9, 9, 4, 9, 8, 1, 5, 6, 0, 8, 2])\n"
          ]
        }
      ]
    },
    {
      "cell_type": "code",
      "source": [
        "images, labels = next(iter(train_loader))\n",
        "\n",
        "# Plot some sample images\n",
        "num_samples = 10  # Number of samples to plot\n",
        "fig, axes = plt.subplots(1, num_samples, figsize=(12, 2))\n",
        "\n",
        "for i in range(num_samples):\n",
        "    ax = axes[i]\n",
        "    ax.imshow(images[i].squeeze(), cmap='gray')  # Remove the channel dimension for 2D plot\n",
        "    ax.set_title(f\"Label: {labels[i].item()}\")\n",
        "    ax.axis('off')  # Hide the axes\n",
        "\n",
        "plt.show()"
      ],
      "metadata": {
        "colab": {
          "base_uri": "https://localhost:8080/",
          "height": 138
        },
        "id": "uw1wQaWmundQ",
        "outputId": "b3d8eedd-0f80-4aba-b20f-f8b4acf8920c"
      },
      "execution_count": 5,
      "outputs": [
        {
          "output_type": "display_data",
          "data": {
            "text/plain": [
              "<Figure size 1200x200 with 10 Axes>"
            ],
            "image/png": "[encoded data removed]"
          },
          "metadata": {}
        }
      ]
    },
    {
      "cell_type": "code",
      "source": [
        "class MaskedConv2d(nn.Conv2d):\n",
        "    \"\"\"\n",
        "    Class extending nn.Conv2d to use masks for autoregressive convolutions.\n",
        "    \"\"\"\n",
        "    def __init__(self, mask_type, in_channels, out_channels, kernel_size, padding=0):\n",
        "        \"\"\"\n",
        "        Initializes the MaskedConv2d layer.\n",
        "\n",
        "        Args:\n",
        "            mask_type (str): Type of mask ('A' or 'B').\n",
        "            in_channels (int): Number of input channels.\n",
        "            out_channels (int): Number of output channels.\n",
        "            kernel_size (int): Size of the convolution kernel.\n",
        "            padding (int): Padding applied to the input.\n",
        "        \"\"\"\n",
        "        super(MaskedConv2d, self).__init__(in_channels, out_channels, kernel_size, padding=padding)\n",
        "\n",
        "        # Register a buffer to store the mask, which is not a learnable parameter\n",
        "        self.register_buffer('mask', torch.ones(out_channels, in_channels, kernel_size, kernel_size).float())\n",
        "\n",
        "        # Ensure the mask type is valid\n",
        "        assert mask_type in ('A', 'B'), \"mask_type must be 'A' or 'B'\"\n",
        "\n",
        "        # Compute the center of the kernel\n",
        "        center_h = kernel_size // 2\n",
        "        center_w = kernel_size // 2\n",
        "\n",
        "        # Apply the masking rules based on the mask type\n",
        "        if mask_type == 'A':\n",
        "            # For Type A: Exclude the current pixel and all future pixels\n",
        "            self.mask[:, :, center_h, center_w:] = 0  # Zero out the center and to the right\n",
        "            self.mask[:, :, center_h + 1:, :] = 0      # Zero out rows below the center\n",
        "        else:\n",
        "            # For Type B: Include the current pixel but exclude future pixels\n",
        "            self.mask[:, :, center_h, center_w + 1:] = 0  # Zero out pixels to the right of the center\n",
        "            self.mask[:, :, center_h + 1:, :] = 0         # Zero out rows below the center\n",
        "\n",
        "    def forward(self, x):\n",
        "        \"\"\"\n",
        "        Forward pass of the masked convolution.\n",
        "\n",
        "        Args:\n",
        "            x (Tensor): Input tensor.\n",
        "\n",
        "        Returns:\n",
        "            Tensor: Output tensor after applying the masked convolution.\n",
        "        \"\"\"\n",
        "        # Apply the mask to the weights\n",
        "        self.weight.data *= self.mask\n",
        "\n",
        "        # Perform the convolution operation\n",
        "        return super(MaskedConv2d, self).forward(x)"
      ],
      "metadata": {
        "id": "v50ezr6VufZx"
      },
      "execution_count": 6,
      "outputs": []
    },
    {
      "cell_type": "code",
      "source": [
        "# Assuming MaskedConv2d is defined and imported as per the previous implementation\n",
        "masked_conv_a = MaskedConv2d(mask_type='A', in_channels=3, out_channels=3, kernel_size=3, padding=2)\n",
        "print(\"MaskedConv2d Type A:\\n\", masked_conv_a)\n",
        "\n",
        "# Print the initial kernel (weights) of Type A\n",
        "print(\"Kernel (weights) of MaskedConv2d Type A before masking:\\n\", masked_conv_a.weight)\n",
        "\n"
      ],
      "metadata": {
        "colab": {
          "base_uri": "https://localhost:8080/"
        },
        "id": "GKYZyVqDyFMv",
        "outputId": "1bb8db99-70de-4cb4-9373-91d3b62f6d0b"
      },
      "execution_count": 7,
      "outputs": [
        {
          "output_type": "stream",
          "name": "stdout",
          "text": [
            "MaskedConv2d Type A:\n",
            " MaskedConv2d(3, 3, kernel_size=(3, 3), stride=(1, 1), padding=(2, 2))\n",
            "Kernel (weights) of MaskedConv2d Type A before masking:\n",
            " Parameter containing:\n",
            "tensor([[[[ 0.0050,  0.0982, -0.1364],\n",
            "          [ 0.1370, -0.1742,  0.0643],\n",
            "          [ 0.0438,  0.0785,  0.0273]],\n",
            "\n",
            "         [[-0.1356, -0.1306,  0.1044],\n",
            "          [ 0.1179, -0.1625,  0.1232],\n",
            "          [ 0.0998,  0.1215,  0.1201]],\n",
            "\n",
            "         [[-0.1680, -0.0448, -0.0552],\n",
            "          [-0.1140, -0.0453,  0.0193],\n",
            "          [-0.0875, -0.1676, -0.1158]]],\n",
            "\n",
            "\n",
            "        [[[-0.1091, -0.1801,  0.1148],\n",
            "          [ 0.0706, -0.1452, -0.1261],\n",
            "          [ 0.0136, -0.1304,  0.0163]],\n",
            "\n",
            "         [[ 0.0235,  0.1370,  0.1841],\n",
            "          [-0.0323, -0.0412, -0.1770],\n",
            "          [ 0.0528,  0.0918,  0.0531]],\n",
            "\n",
            "         [[-0.0654, -0.1885,  0.1644],\n",
            "          [ 0.1716,  0.0930,  0.1707],\n",
            "          [ 0.1556,  0.1035,  0.1764]]],\n",
            "\n",
            "\n",
            "        [[[-0.0205, -0.0817,  0.0378],\n",
            "          [-0.1558,  0.0042,  0.0431],\n",
            "          [-0.1815, -0.1631, -0.1592]],\n",
            "\n",
            "         [[-0.1235, -0.0321, -0.0544],\n",
            "          [-0.1888,  0.1740, -0.0901],\n",
            "          [ 0.0556, -0.0145, -0.0316]],\n",
            "\n",
            "         [[-0.1783, -0.1713, -0.0113],\n",
            "          [ 0.1903,  0.0615,  0.1762],\n",
            "          [-0.0878, -0.1596, -0.0030]]]], requires_grad=True)\n"
          ]
        }
      ]
    },
    {
      "cell_type": "code",
      "source": [
        "# Create a MaskedConv2d instance with mask type 'B'\n",
        "masked_conv_b = MaskedConv2d(mask_type='B', in_channels=3, out_channels=3, kernel_size=3, padding=0)\n",
        "print(\"MaskedConv2d Type B:\\n\", masked_conv_b)\n",
        "\n",
        "# Print the initial kernel (weights) of Type B\n",
        "print(\"Kernel (weights) of MaskedConv2d Type B before masking:\\n\", masked_conv_b.weight)\n",
        "\n"
      ],
      "metadata": {
        "colab": {
          "base_uri": "https://localhost:8080/"
        },
        "id": "WDN0E86ryuBj",
        "outputId": "9d30831a-28dc-488e-9765-de77c233bbae"
      },
      "execution_count": 8,
      "outputs": [
        {
          "output_type": "stream",
          "name": "stdout",
          "text": [
            "MaskedConv2d Type B:\n",
            " MaskedConv2d(3, 3, kernel_size=(3, 3), stride=(1, 1))\n",
            "Kernel (weights) of MaskedConv2d Type B before masking:\n",
            " Parameter containing:\n",
            "tensor([[[[ 0.0185,  0.0473,  0.1401],\n",
            "          [ 0.0842, -0.0039, -0.0993],\n",
            "          [ 0.0439,  0.0130,  0.1312]],\n",
            "\n",
            "         [[-0.1226, -0.1086, -0.1408],\n",
            "          [-0.1080, -0.1464,  0.1755],\n",
            "          [ 0.0801,  0.0271, -0.0403]],\n",
            "\n",
            "         [[-0.1064, -0.0062,  0.0105],\n",
            "          [-0.0011,  0.1627, -0.1154],\n",
            "          [ 0.0877, -0.1613,  0.0055]]],\n",
            "\n",
            "\n",
            "        [[[ 0.1868, -0.0662, -0.0503],\n",
            "          [ 0.0954,  0.0033, -0.0497],\n",
            "          [ 0.0163, -0.1211,  0.1579]],\n",
            "\n",
            "         [[ 0.1208, -0.0605,  0.0465],\n",
            "          [-0.1773,  0.0960,  0.0949],\n",
            "          [-0.1808,  0.0244,  0.1643]],\n",
            "\n",
            "         [[ 0.1726, -0.0799,  0.1307],\n",
            "          [ 0.0053,  0.1213, -0.1822],\n",
            "          [ 0.1440,  0.1346,  0.0816]]],\n",
            "\n",
            "\n",
            "        [[[-0.0844,  0.1532,  0.1537],\n",
            "          [-0.0977,  0.1756, -0.1171],\n",
            "          [-0.0377, -0.1492,  0.1506]],\n",
            "\n",
            "         [[ 0.0848,  0.0338, -0.0209],\n",
            "          [ 0.0627,  0.1267,  0.0107],\n",
            "          [ 0.0794, -0.1398, -0.0163]],\n",
            "\n",
            "         [[-0.0484, -0.0614, -0.1476],\n",
            "          [ 0.0825, -0.0914,  0.0254],\n",
            "          [-0.0971, -0.0693,  0.0433]]]], requires_grad=True)\n"
          ]
        }
      ]
    },
    {
      "cell_type": "code",
      "source": [
        "# Test the layer with a random input tensor\n",
        "x = torch.randn(1, 3, 28, 28)  # Batch size 1, 3 channels, 28x28 image\n",
        "\n",
        "# Forward pass through Type A and Type B masked convolutions\n",
        "output_a = masked_conv_a(x)\n",
        "output_b = masked_conv_b(x)\n",
        "\n",
        "# Print the masked kernel after applying the mask\n",
        "print(\"Kernel (weights) of MaskedConv2d Type A after masking:\\n\", masked_conv_a.weight)\n",
        "print(\"Kernel (weights) of MaskedConv2d Type B after masking:\\n\", masked_conv_b.weight)\n",
        "\n"
      ],
      "metadata": {
        "colab": {
          "base_uri": "https://localhost:8080/"
        },
        "id": "vzEgl0SsyyJJ",
        "outputId": "1c69f1bd-9c58-4d79-eee7-721814e02c9e"
      },
      "execution_count": 9,
      "outputs": [
        {
          "output_type": "stream",
          "name": "stdout",
          "text": [
            "Kernel (weights) of MaskedConv2d Type A after masking:\n",
            " Parameter containing:\n",
            "tensor([[[[ 0.0050,  0.0982, -0.1364],\n",
            "          [ 0.1370, -0.0000,  0.0000],\n",
            "          [ 0.0000,  0.0000,  0.0000]],\n",
            "\n",
            "         [[-0.1356, -0.1306,  0.1044],\n",
            "          [ 0.1179, -0.0000,  0.0000],\n",
            "          [ 0.0000,  0.0000,  0.0000]],\n",
            "\n",
            "         [[-0.1680, -0.0448, -0.0552],\n",
            "          [-0.1140, -0.0000,  0.0000],\n",
            "          [-0.0000, -0.0000, -0.0000]]],\n",
            "\n",
            "\n",
            "        [[[-0.1091, -0.1801,  0.1148],\n",
            "          [ 0.0706, -0.0000, -0.0000],\n",
            "          [ 0.0000, -0.0000,  0.0000]],\n",
            "\n",
            "         [[ 0.0235,  0.1370,  0.1841],\n",
            "          [-0.0323, -0.0000, -0.0000],\n",
            "          [ 0.0000,  0.0000,  0.0000]],\n",
            "\n",
            "         [[-0.0654, -0.1885,  0.1644],\n",
            "          [ 0.1716,  0.0000,  0.0000],\n",
            "          [ 0.0000,  0.0000,  0.0000]]],\n",
            "\n",
            "\n",
            "        [[[-0.0205, -0.0817,  0.0378],\n",
            "          [-0.1558,  0.0000,  0.0000],\n",
            "          [-0.0000, -0.0000, -0.0000]],\n",
            "\n",
            "         [[-0.1235, -0.0321, -0.0544],\n",
            "          [-0.1888,  0.0000, -0.0000],\n",
            "          [ 0.0000, -0.0000, -0.0000]],\n",
            "\n",
            "         [[-0.1783, -0.1713, -0.0113],\n",
            "          [ 0.1903,  0.0000,  0.0000],\n",
            "          [-0.0000, -0.0000, -0.0000]]]], requires_grad=True)\n",
            "Kernel (weights) of MaskedConv2d Type B after masking:\n",
            " Parameter containing:\n",
            "tensor([[[[ 0.0185,  0.0473,  0.1401],\n",
            "          [ 0.0842, -0.0039, -0.0000],\n",
            "          [ 0.0000,  0.0000,  0.0000]],\n",
            "\n",
            "         [[-0.1226, -0.1086, -0.1408],\n",
            "          [-0.1080, -0.1464,  0.0000],\n",
            "          [ 0.0000,  0.0000, -0.0000]],\n",
            "\n",
            "         [[-0.1064, -0.0062,  0.0105],\n",
            "          [-0.0011,  0.1627, -0.0000],\n",
            "          [ 0.0000, -0.0000,  0.0000]]],\n",
            "\n",
            "\n",
            "        [[[ 0.1868, -0.0662, -0.0503],\n",
            "          [ 0.0954,  0.0033, -0.0000],\n",
            "          [ 0.0000, -0.0000,  0.0000]],\n",
            "\n",
            "         [[ 0.1208, -0.0605,  0.0465],\n",
            "          [-0.1773,  0.0960,  0.0000],\n",
            "          [-0.0000,  0.0000,  0.0000]],\n",
            "\n",
            "         [[ 0.1726, -0.0799,  0.1307],\n",
            "          [ 0.0053,  0.1213, -0.0000],\n",
            "          [ 0.0000,  0.0000,  0.0000]]],\n",
            "\n",
            "\n",
            "        [[[-0.0844,  0.1532,  0.1537],\n",
            "          [-0.0977,  0.1756, -0.0000],\n",
            "          [-0.0000, -0.0000,  0.0000]],\n",
            "\n",
            "         [[ 0.0848,  0.0338, -0.0209],\n",
            "          [ 0.0627,  0.1267,  0.0000],\n",
            "          [ 0.0000, -0.0000, -0.0000]],\n",
            "\n",
            "         [[-0.0484, -0.0614, -0.1476],\n",
            "          [ 0.0825, -0.0914,  0.0000],\n",
            "          [-0.0000, -0.0000,  0.0000]]]], requires_grad=True)\n"
          ]
        }
      ]
    },
    {
      "cell_type": "code",
      "source": [
        "# Print the output shapes\n",
        "print(\"Output shape (Type A):\", output_a.shape)\n",
        "print(\"Output shape (Type B):\", output_b.shape)\n"
      ],
      "metadata": {
        "colab": {
          "base_uri": "https://localhost:8080/"
        },
        "id": "vAeNzQaKy0fZ",
        "outputId": "684d341b-3870-4f34-c316-39a2a22a7abe"
      },
      "execution_count": 10,
      "outputs": [
        {
          "output_type": "stream",
          "name": "stdout",
          "text": [
            "Output shape (Type A): torch.Size([1, 3, 30, 30])\n",
            "Output shape (Type B): torch.Size([1, 3, 26, 26])\n"
          ]
        }
      ]
    },
    {
      "cell_type": "code",
      "source": [
        "class ResidualBlock(nn.Module):\n",
        "    \"\"\"\n",
        "    Residual block as shown in the provided architecture.\n",
        "    \"\"\"\n",
        "    def __init__(self, mask_type, in_channels, hidden_channels, kernel_size=3, padding=1):\n",
        "        \"\"\"\n",
        "        Initializes the ResidualBlock.\n",
        "\n",
        "        Args:\n",
        "            mask_type (str): Type of mask ('A' or 'B') for the MaskedConv2d layer.\n",
        "            in_channels (int): Number of input channels.\n",
        "            hidden_channels (int): Number of hidden channels for the intermediate layers.\n",
        "            kernel_size (int): Size of the kernel for the MaskedConv2d layer.\n",
        "            padding (int): Padding applied to the input.\n",
        "        \"\"\"\n",
        "        super(ResidualBlock, self).__init__()\n",
        "\n",
        "        # First layer: 1x1 convolution to reduce dimensionality\n",
        "        self.conv1 = nn.Conv2d(in_channels, hidden_channels, kernel_size=1)\n",
        "\n",
        "        # Second layer: Masked 3x3 convolution\n",
        "        self.masked_conv = MaskedConv2d(\"B\", hidden_channels, hidden_channels, kernel_size, padding)\n",
        "\n",
        "        # Third layer: 1x1 convolution to restore dimensionality\n",
        "        self.conv2 = nn.Conv2d(hidden_channels, in_channels, kernel_size=1)\n",
        "\n",
        "        # Activation function (ReLU)\n",
        "        self.relu = nn.ReLU()\n",
        "\n",
        "    def forward(self, x):\n",
        "        \"\"\"\n",
        "        Forward pass of the residual block.\n",
        "\n",
        "        Args:\n",
        "            x (Tensor): Input tensor.\n",
        "\n",
        "        Returns:\n",
        "            Tensor: Output tensor after applying the residual block.\n",
        "        \"\"\"\n",
        "        # Save the input for the skip connection\n",
        "        residual = x\n",
        "\n",
        "        # First convolution: Dimensionality reduction\n",
        "        out = self.conv1(x)\n",
        "        out = self.relu(out)\n",
        "\n",
        "        # Second convolution: Masked convolution\n",
        "        out = self.masked_conv(out)\n",
        "        out = self.relu(out)\n",
        "\n",
        "        # Third convolution: Dimensionality restoration\n",
        "        out = self.conv2(out)\n",
        "\n",
        "        # Add the skip connection\n",
        "        out += residual\n",
        "\n",
        "\n",
        "        return out\n"
      ],
      "metadata": {
        "id": "sL0CfTTd0BB7"
      },
      "execution_count": 11,
      "outputs": []
    },
    {
      "cell_type": "code",
      "source": [
        "class PixelCNN(nn.Module):\n",
        "    def __init__(self,\n",
        "                 num_channels=64,\n",
        "                 num_residual_blocks=5,\n",
        "                 device=None):\n",
        "        \"\"\"\n",
        "        Initializes the PixelCNN model with residual blocks.\n",
        "\n",
        "        Args:\n",
        "            num_channels (int): Number of output channels for each convolutional layer.\n",
        "            num_residual_blocks (int): Number of residual blocks to stack in the architecture.\n",
        "            device (torch.device, optional): The device to run the model on (e.g., 'cuda' or 'cpu').\n",
        "        \"\"\"\n",
        "        super(PixelCNN, self).__init__()\n",
        "\n",
        "        self.num_channels = num_channels\n",
        "        self.num_residual_blocks = num_residual_blocks\n",
        "        self.device = device\n",
        "\n",
        "        # Input layer: MaskedConv2d with mask type 'A'\n",
        "        self.input_layer = MaskedConv2d(\n",
        "            mask_type='A',\n",
        "            in_channels=1,  # Input channels for grayscale images\n",
        "            out_channels=self.num_channels,\n",
        "            kernel_size=7,  # Initial kernel size\n",
        "            padding=3  # 'same' padding (kernel_size // 2)\n",
        "        ).to(self.device)\n",
        "\n",
        "        # Residual blocks: Stacking multiple residual blocks\n",
        "        self.residual_blocks = nn.ModuleList([\n",
        "            ResidualBlock(\n",
        "                mask_type='B',\n",
        "                in_channels=self.num_channels,\n",
        "                hidden_channels=self.num_channels,\n",
        "                kernel_size=3,\n",
        "                padding=1  # 'same' padding\n",
        "            )\n",
        "            for _ in range(self.num_residual_blocks)\n",
        "        ])\n",
        "\n",
        "        # Final output convolutional layer\n",
        "        self.output_layer = nn.Conv2d(\n",
        "            in_channels=self.num_channels,\n",
        "            out_channels=1,\n",
        "            kernel_size=1  # Pointwise convolution\n",
        "        )\n",
        "\n",
        "    def forward(self, x, print_shapes=False):\n",
        "        \"\"\"\n",
        "        Defines the forward pass through the model with optional shape debugging.\n",
        "\n",
        "        Args:\n",
        "            x (Tensor): The input tensor (image) of shape [batch_size, channels, height, width].\n",
        "            print_shapes (bool): Whether to print the tensor shape at each layer.\n",
        "\n",
        "        Returns:\n",
        "            Tensor: The output tensor after passing through all layers.\n",
        "        \"\"\"\n",
        "        if print_shapes:\n",
        "            print(f\"Input shape: {x.shape}\")\n",
        "\n",
        "        # Input layer\n",
        "        x = self.input_layer(x)\n",
        "        if print_shapes:\n",
        "            print(f\"After input layer: {x.shape}\")\n",
        "\n",
        "        # Residual blocks\n",
        "        for i, block in enumerate(self.residual_blocks):\n",
        "            x = block(x)\n",
        "            if print_shapes:\n",
        "                print(f\"After Residual Block {i + 1}: {x.shape}\")\n",
        "\n",
        "        # Final output layer\n",
        "        x = self.output_layer(x)\n",
        "        if print_shapes:\n",
        "            print(f\"Output shape: {x.shape}\")\n",
        "\n",
        "        return x\n",
        "\n",
        "    @torch.no_grad()\n",
        "    def sample(self, img_size, num_samples=1, device=None):\n",
        "        \"\"\"\n",
        "        Generates a batch of new images pixel by pixel using the trained PixelCNN.\n",
        "\n",
        "        Args:\n",
        "            img_size (tuple): Size of the image to generate (height, width).\n",
        "            num_samples (int): Number of images to generate.\n",
        "            device (torch.device, optional): The device to run the sampling on.\n",
        "\n",
        "        Returns:\n",
        "            Tensor: Batch of generated images of shape [num_samples, 1, height, width].\n",
        "        \"\"\"\n",
        "        if device is None:\n",
        "            device = self.device\n",
        "\n",
        "        # Initialize an empty batch of images\n",
        "        generated_imgs = torch.zeros(num_samples, 1, *img_size).to(device)\n",
        "\n",
        "        # Generate the images pixel by pixel\n",
        "        for i in range(img_size[0]):  # Loop over rows\n",
        "            for j in range(img_size[1]):  # Loop over columns\n",
        "                # Forward pass through the model\n",
        "                out = self.forward(generated_imgs)\n",
        "\n",
        "                # Get the pixel value for the current position\n",
        "                pixel_value = torch.sigmoid(out[:, :, i, j])  # Map logits to probabilities\n",
        "\n",
        "                # Sample from a Bernoulli distribution\n",
        "                sampled_pixel = torch.bernoulli(pixel_value)\n",
        "\n",
        "                # Assign the sampled pixel values back to the image\n",
        "                generated_imgs[:, :, i, j] = sampled_pixel\n",
        "\n",
        "        return generated_imgs\n"
      ],
      "metadata": {
        "id": "IOW9BISBy-Lz"
      },
      "execution_count": 19,
      "outputs": []
    },
    {
      "cell_type": "code",
      "source": [
        "# 1. Define the arguments for the PixelCNN model\n",
        "device = torch.device(\"cuda\" if torch.cuda.is_available() else \"cpu\")  # Use GPU if available\n",
        "print(device)\n",
        "\n",
        "\n",
        "# Create a sample input\n",
        "batch_size = 16\n",
        "channels = 1\n",
        "height, width = 28, 28  # Input image dimensions (e.g., MNIST images)\n",
        "\n",
        "input_tensor = torch.randn(batch_size, channels, height, width).to(device)\n",
        "\n",
        "# Define model parameters\n",
        "num_channels = 64\n",
        "\n",
        "# Create the PixelCNN model\n",
        "model = PixelCNN(num_channels=num_channels, device=device).to(device)\n",
        "\n",
        "# Test the model with shape printing enabled\n",
        "output = model(input_tensor, print_shapes=True)\n"
      ],
      "metadata": {
        "colab": {
          "base_uri": "https://localhost:8080/"
        },
        "id": "DVy52_5m4800",
        "outputId": "422e902e-9ad7-4c47-d005-1f08deb77b11"
      },
      "execution_count": 13,
      "outputs": [
        {
          "output_type": "stream",
          "name": "stdout",
          "text": [
            "cpu\n",
            "Input shape: torch.Size([16, 1, 28, 28])\n",
            "After input layer: torch.Size([16, 64, 28, 28])\n",
            "After Residual Block 1: torch.Size([16, 64, 28, 28])\n",
            "After Residual Block 2: torch.Size([16, 64, 28, 28])\n",
            "After Residual Block 3: torch.Size([16, 64, 28, 28])\n",
            "After Residual Block 4: torch.Size([16, 64, 28, 28])\n",
            "After Residual Block 5: torch.Size([16, 64, 28, 28])\n",
            "Output shape: torch.Size([16, 1, 28, 28])\n"
          ]
        }
      ]
    },
    {
      "cell_type": "code",
      "source": [
        "# Hyperparameters and setup\n",
        "device = torch.device(\"cuda\" if torch.cuda.is_available() else \"cpu\")\n",
        "batch_size = 64\n",
        "num_epochs = 5\n",
        "learning_rate = 5e-6\n",
        "\n",
        "device\n",
        "\n"
      ],
      "metadata": {
        "colab": {
          "base_uri": "https://localhost:8080/"
        },
        "id": "WBbV-dE-5sRk",
        "outputId": "0370bec6-ea9c-4a38-f976-b57a5435c944"
      },
      "execution_count": 14,
      "outputs": [
        {
          "output_type": "execute_result",
          "data": {
            "text/plain": [
              "device(type='cpu')"
            ]
          },
          "metadata": {},
          "execution_count": 14
        }
      ]
    },
    {
      "cell_type": "code",
      "source": [
        "# Wrap datasets in DataLoaders\n",
        "\n",
        "batch_size = 64\n",
        "\n",
        "train_loader = DataLoader(train_dataset, batch_size=batch_size, shuffle=True)\n",
        "test_loader = DataLoader(test_dataset, batch_size=batch_size, shuffle=False)"
      ],
      "metadata": {
        "id": "1c2n6fxyB_km"
      },
      "execution_count": 15,
      "outputs": []
    },
    {
      "cell_type": "code",
      "source": [
        "# Model, loss, and optimizer\n",
        "\n",
        "# Define model parameters\n",
        "num_channels = 64\n",
        "\n",
        "model = PixelCNN(num_channels=num_channels, device=device).to(device)"
      ],
      "metadata": {
        "id": "lymBrZG85s9Z"
      },
      "execution_count": 16,
      "outputs": []
    },
    {
      "cell_type": "code",
      "source": [
        "loss_fn = nn.BCEWithLogitsLoss()  # Combines Sigmoid with Binary Cross-Entropy\n",
        "optimizer = optim.Adam(model.parameters(), lr=learning_rate)\n"
      ],
      "metadata": {
        "id": "Z2BophZt5495"
      },
      "execution_count": 17,
      "outputs": []
    },
    {
      "cell_type": "code",
      "source": [
        "# Model initialization\n",
        "\n",
        "# Loss function and optimizer\n",
        "\n",
        "\n",
        "# Training loop\n",
        "num_epochs = 10\n",
        "print(\"Starting training...\")\n",
        "for epoch in range(num_epochs):\n",
        "    model.train()\n",
        "    epoch_loss = 0\n",
        "\n",
        "    # Wrap the train_loader with tqdm for a progress bar\n",
        "    with tqdm(train_loader, unit=\"batch\") as tepoch:\n",
        "        tepoch.set_description(f\"Epoch {epoch + 1}/{num_epochs}\")\n",
        "        for batch_idx, (data, _) in enumerate(tepoch):\n",
        "            # Move data to device\n",
        "            data = data.to(device)  # Binarized data is already in [0, 1]\n",
        "\n",
        "            # Forward pass\n",
        "            outputs = model(data)  # Logits output\n",
        "\n",
        "            # Compute loss\n",
        "            loss = loss_fn(outputs, data)  # Compare logits with binarized target\n",
        "\n",
        "            # Backward pass and optimization\n",
        "            optimizer.zero_grad()\n",
        "            loss.backward()\n",
        "            optimizer.step()\n",
        "\n",
        "            # Update epoch loss\n",
        "            epoch_loss += loss.item()\n",
        "\n",
        "            # Update tqdm progress bar with the current loss\n",
        "            tepoch.set_postfix(loss=loss.item())\n",
        "\n",
        "    # Print epoch summary\n",
        "    print(f\"Epoch {epoch + 1}/{num_epochs}, Loss: {epoch_loss / len(train_loader):.4f}\")\n"
      ],
      "metadata": {
        "colab": {
          "base_uri": "https://localhost:8080/",
          "height": 391
        },
        "id": "FTORa5t8m10t",
        "outputId": "e07ae937-9a95-4055-9baa-02908b64a5eb"
      },
      "execution_count": 20,
      "outputs": [
        {
          "output_type": "stream",
          "name": "stdout",
          "text": [
            "Starting training...\n"
          ]
        },
        {
          "output_type": "stream",
          "name": "stderr",
          "text": [
            "Epoch 1/10:   2%|▏         | 15/938 [00:25<26:37,  1.73s/batch, loss=0.643]\n"
          ]
        },
        {
          "output_type": "error",
          "ename": "KeyboardInterrupt",
          "evalue": "",
          "traceback": [
            "\u001b[0;31m---------------------------------------------------------------------------\u001b[0m",
            "\u001b[0;31mKeyboardInterrupt\u001b[0m                         Traceback (most recent call last)",
            "\u001b[0;32m<ipython-input-20-1ff65e031792>\u001b[0m in \u001b[0;36m<cell line: 10>\u001b[0;34m()\u001b[0m\n\u001b[1;32m     20\u001b[0m \u001b[0;34m\u001b[0m\u001b[0m\n\u001b[1;32m     21\u001b[0m             \u001b[0;31m# Forward pass\u001b[0m\u001b[0;34m\u001b[0m\u001b[0;34m\u001b[0m\u001b[0m\n\u001b[0;32m---> 22\u001b[0;31m             \u001b[0moutputs\u001b[0m \u001b[0;34m=\u001b[0m \u001b[0mmodel\u001b[0m\u001b[0;34m(\u001b[0m\u001b[0mdata\u001b[0m\u001b[0;34m)\u001b[0m  \u001b[0;31m# Logits output\u001b[0m\u001b[0;34m\u001b[0m\u001b[0;34m\u001b[0m\u001b[0m\n\u001b[0m\u001b[1;32m     23\u001b[0m \u001b[0;34m\u001b[0m\u001b[0m\n\u001b[1;32m     24\u001b[0m             \u001b[0;31m# Compute loss\u001b[0m\u001b[0;34m\u001b[0m\u001b[0;34m\u001b[0m\u001b[0m\n",
            "\u001b[0;32m/usr/local/lib/python3.10/dist-packages/torch/nn/modules/module.py\u001b[0m in \u001b[0;36m_wrapped_call_impl\u001b[0;34m(self, *args, **kwargs)\u001b[0m\n\u001b[1;32m   1734\u001b[0m             \u001b[0;32mreturn\u001b[0m \u001b[0mself\u001b[0m\u001b[0;34m.\u001b[0m\u001b[0m_compiled_call_impl\u001b[0m\u001b[0;34m(\u001b[0m\u001b[0;34m*\u001b[0m\u001b[0margs\u001b[0m\u001b[0;34m,\u001b[0m \u001b[0;34m**\u001b[0m\u001b[0mkwargs\u001b[0m\u001b[0;34m)\u001b[0m  \u001b[0;31m# type: ignore[misc]\u001b[0m\u001b[0;34m\u001b[0m\u001b[0;34m\u001b[0m\u001b[0m\n\u001b[1;32m   1735\u001b[0m         \u001b[0;32melse\u001b[0m\u001b[0;34m:\u001b[0m\u001b[0;34m\u001b[0m\u001b[0;34m\u001b[0m\u001b[0m\n\u001b[0;32m-> 1736\u001b[0;31m             \u001b[0;32mreturn\u001b[0m \u001b[0mself\u001b[0m\u001b[0;34m.\u001b[0m\u001b[0m_call_impl\u001b[0m\u001b[0;34m(\u001b[0m\u001b[0;34m*\u001b[0m\u001b[0margs\u001b[0m\u001b[0;34m,\u001b[0m \u001b[0;34m**\u001b[0m\u001b[0mkwargs\u001b[0m\u001b[0;34m)\u001b[0m\u001b[0;34m\u001b[0m\u001b[0;34m\u001b[0m\u001b[0m\n\u001b[0m\u001b[1;32m   1737\u001b[0m \u001b[0;34m\u001b[0m\u001b[0m\n\u001b[1;32m   1738\u001b[0m     \u001b[0;31m# torchrec tests the code consistency with the following code\u001b[0m\u001b[0;34m\u001b[0m\u001b[0;34m\u001b[0m\u001b[0m\n",
            "\u001b[0;32m/usr/local/lib/python3.10/dist-packages/torch/nn/modules/module.py\u001b[0m in \u001b[0;36m_call_impl\u001b[0;34m(self, *args, **kwargs)\u001b[0m\n\u001b[1;32m   1745\u001b[0m                 \u001b[0;32mor\u001b[0m \u001b[0m_global_backward_pre_hooks\u001b[0m \u001b[0;32mor\u001b[0m \u001b[0m_global_backward_hooks\u001b[0m\u001b[0;34m\u001b[0m\u001b[0;34m\u001b[0m\u001b[0m\n\u001b[1;32m   1746\u001b[0m                 or _global_forward_hooks or _global_forward_pre_hooks):\n\u001b[0;32m-> 1747\u001b[0;31m             \u001b[0;32mreturn\u001b[0m \u001b[0mforward_call\u001b[0m\u001b[0;34m(\u001b[0m\u001b[0;34m*\u001b[0m\u001b[0margs\u001b[0m\u001b[0;34m,\u001b[0m \u001b[0;34m**\u001b[0m\u001b[0mkwargs\u001b[0m\u001b[0;34m)\u001b[0m\u001b[0;34m\u001b[0m\u001b[0;34m\u001b[0m\u001b[0m\n\u001b[0m\u001b[1;32m   1748\u001b[0m \u001b[0;34m\u001b[0m\u001b[0m\n\u001b[1;32m   1749\u001b[0m         \u001b[0mresult\u001b[0m \u001b[0;34m=\u001b[0m \u001b[0;32mNone\u001b[0m\u001b[0;34m\u001b[0m\u001b[0;34m\u001b[0m\u001b[0m\n",
            "\u001b[0;32m<ipython-input-12-bc47fb4b4550>\u001b[0m in \u001b[0;36mforward\u001b[0;34m(self, x, print_shapes)\u001b[0m\n\u001b[1;32m     67\u001b[0m         \u001b[0;31m# Residual blocks\u001b[0m\u001b[0;34m\u001b[0m\u001b[0;34m\u001b[0m\u001b[0m\n\u001b[1;32m     68\u001b[0m         \u001b[0;32mfor\u001b[0m \u001b[0mi\u001b[0m\u001b[0;34m,\u001b[0m \u001b[0mblock\u001b[0m \u001b[0;32min\u001b[0m \u001b[0menumerate\u001b[0m\u001b[0;34m(\u001b[0m\u001b[0mself\u001b[0m\u001b[0;34m.\u001b[0m\u001b[0mresidual_blocks\u001b[0m\u001b[0;34m)\u001b[0m\u001b[0;34m:\u001b[0m\u001b[0;34m\u001b[0m\u001b[0;34m\u001b[0m\u001b[0m\n\u001b[0;32m---> 69\u001b[0;31m             \u001b[0mx\u001b[0m \u001b[0;34m=\u001b[0m \u001b[0mblock\u001b[0m\u001b[0;34m(\u001b[0m\u001b[0mx\u001b[0m\u001b[0;34m)\u001b[0m\u001b[0;34m\u001b[0m\u001b[0;34m\u001b[0m\u001b[0m\n\u001b[0m\u001b[1;32m     70\u001b[0m             \u001b[0;32mif\u001b[0m \u001b[0mprint_shapes\u001b[0m\u001b[0;34m:\u001b[0m\u001b[0;34m\u001b[0m\u001b[0;34m\u001b[0m\u001b[0m\n\u001b[1;32m     71\u001b[0m                 \u001b[0mprint\u001b[0m\u001b[0;34m(\u001b[0m\u001b[0;34mf\"After Residual Block {i + 1}: {x.shape}\"\u001b[0m\u001b[0;34m)\u001b[0m\u001b[0;34m\u001b[0m\u001b[0;34m\u001b[0m\u001b[0m\n",
            "\u001b[0;32m/usr/local/lib/python3.10/dist-packages/torch/nn/modules/module.py\u001b[0m in \u001b[0;36m_wrapped_call_impl\u001b[0;34m(self, *args, **kwargs)\u001b[0m\n\u001b[1;32m   1734\u001b[0m             \u001b[0;32mreturn\u001b[0m \u001b[0mself\u001b[0m\u001b[0;34m.\u001b[0m\u001b[0m_compiled_call_impl\u001b[0m\u001b[0;34m(\u001b[0m\u001b[0;34m*\u001b[0m\u001b[0margs\u001b[0m\u001b[0;34m,\u001b[0m \u001b[0;34m**\u001b[0m\u001b[0mkwargs\u001b[0m\u001b[0;34m)\u001b[0m  \u001b[0;31m# type: ignore[misc]\u001b[0m\u001b[0;34m\u001b[0m\u001b[0;34m\u001b[0m\u001b[0m\n\u001b[1;32m   1735\u001b[0m         \u001b[0;32melse\u001b[0m\u001b[0;34m:\u001b[0m\u001b[0;34m\u001b[0m\u001b[0;34m\u001b[0m\u001b[0m\n\u001b[0;32m-> 1736\u001b[0;31m             \u001b[0;32mreturn\u001b[0m \u001b[0mself\u001b[0m\u001b[0;34m.\u001b[0m\u001b[0m_call_impl\u001b[0m\u001b[0;34m(\u001b[0m\u001b[0;34m*\u001b[0m\u001b[0margs\u001b[0m\u001b[0;34m,\u001b[0m \u001b[0;34m**\u001b[0m\u001b[0mkwargs\u001b[0m\u001b[0;34m)\u001b[0m\u001b[0;34m\u001b[0m\u001b[0;34m\u001b[0m\u001b[0m\n\u001b[0m\u001b[1;32m   1737\u001b[0m \u001b[0;34m\u001b[0m\u001b[0m\n\u001b[1;32m   1738\u001b[0m     \u001b[0;31m# torchrec tests the code consistency with the following code\u001b[0m\u001b[0;34m\u001b[0m\u001b[0;34m\u001b[0m\u001b[0m\n",
            "\u001b[0;32m/usr/local/lib/python3.10/dist-packages/torch/nn/modules/module.py\u001b[0m in \u001b[0;36m_call_impl\u001b[0;34m(self, *args, **kwargs)\u001b[0m\n\u001b[1;32m   1745\u001b[0m                 \u001b[0;32mor\u001b[0m \u001b[0m_global_backward_pre_hooks\u001b[0m \u001b[0;32mor\u001b[0m \u001b[0m_global_backward_hooks\u001b[0m\u001b[0;34m\u001b[0m\u001b[0;34m\u001b[0m\u001b[0m\n\u001b[1;32m   1746\u001b[0m                 or _global_forward_hooks or _global_forward_pre_hooks):\n\u001b[0;32m-> 1747\u001b[0;31m             \u001b[0;32mreturn\u001b[0m \u001b[0mforward_call\u001b[0m\u001b[0;34m(\u001b[0m\u001b[0;34m*\u001b[0m\u001b[0margs\u001b[0m\u001b[0;34m,\u001b[0m \u001b[0;34m**\u001b[0m\u001b[0mkwargs\u001b[0m\u001b[0;34m)\u001b[0m\u001b[0;34m\u001b[0m\u001b[0;34m\u001b[0m\u001b[0m\n\u001b[0m\u001b[1;32m   1748\u001b[0m \u001b[0;34m\u001b[0m\u001b[0m\n\u001b[1;32m   1749\u001b[0m         \u001b[0mresult\u001b[0m \u001b[0;34m=\u001b[0m \u001b[0;32mNone\u001b[0m\u001b[0;34m\u001b[0m\u001b[0;34m\u001b[0m\u001b[0m\n",
            "\u001b[0;32m<ipython-input-11-f730119852b7>\u001b[0m in \u001b[0;36mforward\u001b[0;34m(self, x)\u001b[0m\n\u001b[1;32m     46\u001b[0m \u001b[0;34m\u001b[0m\u001b[0m\n\u001b[1;32m     47\u001b[0m         \u001b[0;31m# Second convolution: Masked convolution\u001b[0m\u001b[0;34m\u001b[0m\u001b[0;34m\u001b[0m\u001b[0m\n\u001b[0;32m---> 48\u001b[0;31m         \u001b[0mout\u001b[0m \u001b[0;34m=\u001b[0m \u001b[0mself\u001b[0m\u001b[0;34m.\u001b[0m\u001b[0mmasked_conv\u001b[0m\u001b[0;34m(\u001b[0m\u001b[0mout\u001b[0m\u001b[0;34m)\u001b[0m\u001b[0;34m\u001b[0m\u001b[0;34m\u001b[0m\u001b[0m\n\u001b[0m\u001b[1;32m     49\u001b[0m         \u001b[0mout\u001b[0m \u001b[0;34m=\u001b[0m \u001b[0mself\u001b[0m\u001b[0;34m.\u001b[0m\u001b[0mrelu\u001b[0m\u001b[0;34m(\u001b[0m\u001b[0mout\u001b[0m\u001b[0;34m)\u001b[0m\u001b[0;34m\u001b[0m\u001b[0;34m\u001b[0m\u001b[0m\n\u001b[1;32m     50\u001b[0m \u001b[0;34m\u001b[0m\u001b[0m\n",
            "\u001b[0;32m/usr/local/lib/python3.10/dist-packages/torch/nn/modules/module.py\u001b[0m in \u001b[0;36m_wrapped_call_impl\u001b[0;34m(self, *args, **kwargs)\u001b[0m\n\u001b[1;32m   1734\u001b[0m             \u001b[0;32mreturn\u001b[0m \u001b[0mself\u001b[0m\u001b[0;34m.\u001b[0m\u001b[0m_compiled_call_impl\u001b[0m\u001b[0;34m(\u001b[0m\u001b[0;34m*\u001b[0m\u001b[0margs\u001b[0m\u001b[0;34m,\u001b[0m \u001b[0;34m**\u001b[0m\u001b[0mkwargs\u001b[0m\u001b[0;34m)\u001b[0m  \u001b[0;31m# type: ignore[misc]\u001b[0m\u001b[0;34m\u001b[0m\u001b[0;34m\u001b[0m\u001b[0m\n\u001b[1;32m   1735\u001b[0m         \u001b[0;32melse\u001b[0m\u001b[0;34m:\u001b[0m\u001b[0;34m\u001b[0m\u001b[0;34m\u001b[0m\u001b[0m\n\u001b[0;32m-> 1736\u001b[0;31m             \u001b[0;32mreturn\u001b[0m \u001b[0mself\u001b[0m\u001b[0;34m.\u001b[0m\u001b[0m_call_impl\u001b[0m\u001b[0;34m(\u001b[0m\u001b[0;34m*\u001b[0m\u001b[0margs\u001b[0m\u001b[0;34m,\u001b[0m \u001b[0;34m**\u001b[0m\u001b[0mkwargs\u001b[0m\u001b[0;34m)\u001b[0m\u001b[0;34m\u001b[0m\u001b[0;34m\u001b[0m\u001b[0m\n\u001b[0m\u001b[1;32m   1737\u001b[0m \u001b[0;34m\u001b[0m\u001b[0m\n\u001b[1;32m   1738\u001b[0m     \u001b[0;31m# torchrec tests the code consistency with the following code\u001b[0m\u001b[0;34m\u001b[0m\u001b[0;34m\u001b[0m\u001b[0m\n",
            "\u001b[0;32m/usr/local/lib/python3.10/dist-packages/torch/nn/modules/module.py\u001b[0m in \u001b[0;36m_call_impl\u001b[0;34m(self, *args, **kwargs)\u001b[0m\n\u001b[1;32m   1745\u001b[0m                 \u001b[0;32mor\u001b[0m \u001b[0m_global_backward_pre_hooks\u001b[0m \u001b[0;32mor\u001b[0m \u001b[0m_global_backward_hooks\u001b[0m\u001b[0;34m\u001b[0m\u001b[0;34m\u001b[0m\u001b[0m\n\u001b[1;32m   1746\u001b[0m                 or _global_forward_hooks or _global_forward_pre_hooks):\n\u001b[0;32m-> 1747\u001b[0;31m             \u001b[0;32mreturn\u001b[0m \u001b[0mforward_call\u001b[0m\u001b[0;34m(\u001b[0m\u001b[0;34m*\u001b[0m\u001b[0margs\u001b[0m\u001b[0;34m,\u001b[0m \u001b[0;34m**\u001b[0m\u001b[0mkwargs\u001b[0m\u001b[0;34m)\u001b[0m\u001b[0;34m\u001b[0m\u001b[0;34m\u001b[0m\u001b[0m\n\u001b[0m\u001b[1;32m   1748\u001b[0m \u001b[0;34m\u001b[0m\u001b[0m\n\u001b[1;32m   1749\u001b[0m         \u001b[0mresult\u001b[0m \u001b[0;34m=\u001b[0m \u001b[0;32mNone\u001b[0m\u001b[0;34m\u001b[0m\u001b[0;34m\u001b[0m\u001b[0m\n",
            "\u001b[0;32m<ipython-input-6-246f2baa13d3>\u001b[0m in \u001b[0;36mforward\u001b[0;34m(self, x)\u001b[0m\n\u001b[1;32m     50\u001b[0m \u001b[0;34m\u001b[0m\u001b[0m\n\u001b[1;32m     51\u001b[0m         \u001b[0;31m# Perform the convolution operation\u001b[0m\u001b[0;34m\u001b[0m\u001b[0;34m\u001b[0m\u001b[0m\n\u001b[0;32m---> 52\u001b[0;31m         \u001b[0;32mreturn\u001b[0m \u001b[0msuper\u001b[0m\u001b[0;34m(\u001b[0m\u001b[0mMaskedConv2d\u001b[0m\u001b[0;34m,\u001b[0m \u001b[0mself\u001b[0m\u001b[0;34m)\u001b[0m\u001b[0;34m.\u001b[0m\u001b[0mforward\u001b[0m\u001b[0;34m(\u001b[0m\u001b[0mx\u001b[0m\u001b[0;34m)\u001b[0m\u001b[0;34m\u001b[0m\u001b[0;34m\u001b[0m\u001b[0m\n\u001b[0m",
            "\u001b[0;32m/usr/local/lib/python3.10/dist-packages/torch/nn/modules/conv.py\u001b[0m in \u001b[0;36mforward\u001b[0;34m(self, input)\u001b[0m\n\u001b[1;32m    552\u001b[0m \u001b[0;34m\u001b[0m\u001b[0m\n\u001b[1;32m    553\u001b[0m     \u001b[0;32mdef\u001b[0m \u001b[0mforward\u001b[0m\u001b[0;34m(\u001b[0m\u001b[0mself\u001b[0m\u001b[0;34m,\u001b[0m \u001b[0minput\u001b[0m\u001b[0;34m:\u001b[0m \u001b[0mTensor\u001b[0m\u001b[0;34m)\u001b[0m \u001b[0;34m->\u001b[0m \u001b[0mTensor\u001b[0m\u001b[0;34m:\u001b[0m\u001b[0;34m\u001b[0m\u001b[0;34m\u001b[0m\u001b[0m\n\u001b[0;32m--> 554\u001b[0;31m         \u001b[0;32mreturn\u001b[0m \u001b[0mself\u001b[0m\u001b[0;34m.\u001b[0m\u001b[0m_conv_forward\u001b[0m\u001b[0;34m(\u001b[0m\u001b[0minput\u001b[0m\u001b[0;34m,\u001b[0m \u001b[0mself\u001b[0m\u001b[0;34m.\u001b[0m\u001b[0mweight\u001b[0m\u001b[0;34m,\u001b[0m \u001b[0mself\u001b[0m\u001b[0;34m.\u001b[0m\u001b[0mbias\u001b[0m\u001b[0;34m)\u001b[0m\u001b[0;34m\u001b[0m\u001b[0;34m\u001b[0m\u001b[0m\n\u001b[0m\u001b[1;32m    555\u001b[0m \u001b[0;34m\u001b[0m\u001b[0m\n\u001b[1;32m    556\u001b[0m \u001b[0;34m\u001b[0m\u001b[0m\n",
            "\u001b[0;32m/usr/local/lib/python3.10/dist-packages/torch/nn/modules/conv.py\u001b[0m in \u001b[0;36m_conv_forward\u001b[0;34m(self, input, weight, bias)\u001b[0m\n\u001b[1;32m    547\u001b[0m                 \u001b[0mself\u001b[0m\u001b[0;34m.\u001b[0m\u001b[0mgroups\u001b[0m\u001b[0;34m,\u001b[0m\u001b[0;34m\u001b[0m\u001b[0;34m\u001b[0m\u001b[0m\n\u001b[1;32m    548\u001b[0m             )\n\u001b[0;32m--> 549\u001b[0;31m         return F.conv2d(\n\u001b[0m\u001b[1;32m    550\u001b[0m             \u001b[0minput\u001b[0m\u001b[0;34m,\u001b[0m \u001b[0mweight\u001b[0m\u001b[0;34m,\u001b[0m \u001b[0mbias\u001b[0m\u001b[0;34m,\u001b[0m \u001b[0mself\u001b[0m\u001b[0;34m.\u001b[0m\u001b[0mstride\u001b[0m\u001b[0;34m,\u001b[0m \u001b[0mself\u001b[0m\u001b[0;34m.\u001b[0m\u001b[0mpadding\u001b[0m\u001b[0;34m,\u001b[0m \u001b[0mself\u001b[0m\u001b[0;34m.\u001b[0m\u001b[0mdilation\u001b[0m\u001b[0;34m,\u001b[0m \u001b[0mself\u001b[0m\u001b[0;34m.\u001b[0m\u001b[0mgroups\u001b[0m\u001b[0;34m\u001b[0m\u001b[0;34m\u001b[0m\u001b[0m\n\u001b[1;32m    551\u001b[0m         )\n",
            "\u001b[0;31mKeyboardInterrupt\u001b[0m: "
          ]
        }
      ]
    },
    {
      "cell_type": "code",
      "source": [
        "# Plotting function\n",
        "def plot_images(images, num_rows, num_cols):\n",
        "    \"\"\"\n",
        "    Plots a grid of generated images.\n",
        "\n",
        "    Args:\n",
        "        images (Tensor): A batch of images of shape [num_samples, height, width].\n",
        "        num_rows (int): Number of rows in the grid.\n",
        "        num_cols (int): Number of columns in the grid.\n",
        "    \"\"\"\n",
        "    fig, axes = plt.subplots(num_rows, num_cols, figsize=(10, 10))\n",
        "    for i in range(num_rows):\n",
        "        for j in range(num_cols):\n",
        "            idx = i * num_cols + j\n",
        "            axes[i, j].imshow(images[idx].cpu().numpy(), cmap=\"gray\")\n",
        "            axes[i, j].axis(\"off\")\n",
        "    plt.tight_layout()\n",
        "    plt.show()\n",
        "\n",
        "\n",
        "\n",
        "    # Set the model in evaluation mode\n",
        "model.eval()\n",
        "\n",
        "    # Generate 100 images\n",
        "num_samples = 100\n",
        "img_size = (28, 28)  # Size of each generated image\n",
        "generated_images = model.sample(img_size=img_size, num_samples=num_samples, device=device)\n",
        "\n",
        "    # Plot the generated images (10x10 grid)\n",
        "plot_images(generated_images.squeeze(1), num_rows=10, num_cols=10)\n"
      ],
      "metadata": {
        "id": "gH3xvPQzm145"
      },
      "execution_count": null,
      "outputs": []
    },
    {
      "cell_type": "code",
      "source": [],
      "metadata": {
        "id": "AfeTcwVtm19R"
      },
      "execution_count": null,
      "outputs": []
    },
    {
      "cell_type": "code",
      "source": [],
      "metadata": {
        "id": "C6ehvEsVm2Bd"
      },
      "execution_count": null,
      "outputs": []
    },
    {
      "cell_type": "code",
      "source": [],
      "metadata": {
        "id": "7pKDKSv_f8fp"
      },
      "execution_count": null,
      "outputs": []
    }
  ]
}